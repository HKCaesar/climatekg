{
 "cells": [
  {
   "cell_type": "code",
   "execution_count": 13,
   "metadata": {},
   "outputs": [],
   "source": [
    "f = open('/Users/shiqinchoo/Desktop/summary/mgclimate/mgclimate.txt','r')"
   ]
  },
  {
   "cell_type": "code",
   "execution_count": 14,
   "metadata": {},
   "outputs": [],
   "source": [
    "from nltk.corpus import stopwords\n",
    "from nltk.cluster.util import cosine_distance"
   ]
  },
  {
   "cell_type": "code",
   "execution_count": 15,
   "metadata": {},
   "outputs": [],
   "source": [
    "g = f.read()"
   ]
  },
  {
   "cell_type": "code",
   "execution_count": 16,
   "metadata": {},
   "outputs": [],
   "source": [
    "from gensim.summarization.summarizer import summarize\n",
    "\n"
   ]
  },
  {
   "cell_type": "code",
   "execution_count": 17,
   "metadata": {},
   "outputs": [
    {
     "name": "stdout",
     "output_type": "stream",
     "text": [
      "Dr. Matthew Kahn, director of the 21st Century Cities Initiative at Johns Hopkins University; Dr. Benjamin Kirtman, director of the Cooperative Institute for Marine and Atmospheric Studies and director of the Center for Computational Science Climate and Environmental Hazards Program at the University of Miami; Nisha Krishnan, climate finance associate at the World Resources Institute, Dr. Michael Lacour-Little, director of economics at Fannie Mae; Dr. Judith Ledlee, project engineer at Black & Veatch; Dag Lohmann, chief executive officer at KatRisk; Ryan Lewis, professor at the Center for Research on Consumer Financial Decision Making, University of Colorado Boulder; Dr. Fred Lubnow, director of aquatic programs\n",
      "For example, as heat and humidity increase in India, by 2030 under an RCP 8.5 scenario, between 160 million and 200 million people could live in regions with an average 5 percent annual probability of experiencing a heat wave that exceeds the survivability threshold for a healthy human being, absent an adaptation response.\n",
      "Over the past decade, we have published a variety of research including a cost curve illustrating feasible approaches to abatement and reports on understanding the economics of adaptation and identifying the potential to improve resource productivity.1 This research builds on that work and focuses on understanding the nature and implications of physical climate risk in the next three decades.\n",
      "We focus on physical risk—that is, the risks arising from the physical effects of climate change, including the potential effects on people, communities, natural and physical capital, and economic activity, and the implications for companies, governments, financial institutions, and individuals.\n",
      "The nine distinct cases of physical climate risk in various geographies and sectors that we examine, including direct impact and knock-on effects, as well as adaptation costs and strategies, help illustrate the specific socioeconomic impact of the different physical climate hazards on the examined human, physical, or natural system.\n",
      "Specifically, we looked at the impact of climate change on livability and workability in India and the Mediterranean; disruption of food systems through looking at global breadbaskets and African agriculture; physical asset destruction in residential real estate in Florida and\n",
      "For example, by 2030 in an RCP 8.5 scenario, absent an effective adaptation response, we estimate that 160 million to 200 million people in India could live in regions with a 5 percent average annual probability of experiencing a heat wave that exceeds the survivability threshold for a healthy human being (without factoring in air conditioner penetration).23\n",
      "To understand how physical climate hazards could evolve around the world, we developed a global geospatial assessment of climate impacts over the next 30 years covering 105 countries.31 We again rely on our framework of the direct impacts of climate change on five human, physical, and natural systems.\n",
      "to define the impact of climate change, often building on the risk measures used in our case studies, and choosing the best possible measures based on broad country coverage and data availability.32 For example, for livability and workability, we use the measures of the share of population living in areas projected to experience a non-zero annual probability of lethal heat waves as well as the annual share of effective outdoor working hours affected by extreme heat and humidity in climate-exposed regions.\n",
      "annual supply of water (these three are measures of livability and workability, and are considered in our India case and Mediterranean cases), annual share of capital stock at risk of flood damage in climate-exposed regions (asset destruction and infrastructure services; similar measures of capital stock damage are used in our Florida and Inundation cases), share of time spent in drought over a decade (measure of food systems; we also consider the impact of drought in our Mediterranean case), share of land surface changing climate classification annually (measure of natural capital; this was used for our geospatial analysis to allow us to develop a global measure of natural capital risk).\n",
      "To assess the magnitude of direct physical climate risk in each case and for our geospatial analysis, we examine the severity of the hazard and its likelihood; the exposure of people, assets, or economic activity to the hazard; and the extent to which systems are vulnerable to the hazard, for example, how vulnerable buildings are to damage from different depths of flood.\n",
      "Our analysis, like any such effort, relies on assumptions made along the causal chain: about emission paths and adaptation schemes; global and regional climate models; physical damage functions; and knock-on effects.\n",
      "Our analysis, like any such effort, relies on assumptions made along the causal chain: about emission paths and adaptation schemes; global and regional climate models; physical damage functions; and knock-on effects.\n",
      "Adaptation measures such as hardening physical infrastructure, relocating people and assets, and ensuring backup capacity, among others, can help manage the impact of climate hazards and reduce risk.\n",
      "Adaptation measures such as hardening physical infrastructure, relocating people and assets, and ensuring backup capacity, among others, can help manage the impact of climate hazards and reduce risk.\n",
      "We estimate that the effective number of outdoor daylight hours lost in an average year because of diminished labor productivity would increase by about 15 percent by 2030 compared with today, equivalent to an additional four weeks of work from 11 a.m. to 4 p.m. lost, assuming a 12-hour workday.115 This would likely cause a reduction in GDP of between 2.5 and 4.5 percent by 2030, where the range is based on the 25th and 75th percentile climate model ensemble projections (Exhibit 11).116 By 2050, it is expected that some parts of India will be under such intense heat and humidity duress that working outside would effectively not be feasible for almost 30 percent of annual daylight hours.\n",
      "While our case studies illustrate localized impacts of a changing climate and help us understand the nature of physical climate risk, rising temperatures and the resulting hazards are a global trend.\n",
      "While we do not attempt to quantify the total impact of climate change on global GDP, we do include a discussion of the short-run impacts on the level of GDP from outdoor working hours lost due to extreme heat and humidity and the impact of yield failure.154 Beyond direct impacts, destruction of stocks of physical, human, and natural capital could have longer-term effects on GDP which we do not include or estimate (see\n",
      "of 20 climate models, as well as years that are “hotter and more humid than average” and “colder and less humid than average.”168 Considering the impact on workability, we find that today, about 10 percent of working hours are at risk globally due to conditions that reduce labor productivity in heat- and humidity-exposed regions.\n",
      "Other countries in group: Angola, Cameroon, Chad, Ecuador, Guinea, Guyana, Jordan, Laos, Liberia, Madagascar, Papua New Guinea, Saudi Arabia, Somalia, Suriname, Tanzania, Uganda, Uruguay, Zambia\n",
      "Other countries in group: Angola, Cameroon, Chad, Ecuador, Guinea, Guyana, Jordan, Laos, Liberia, Madagascar, Papua New Guinea, Saudi Arabia, Somalia, Suriname, Tanzania, Uganda, Uruguay, Zambia\n",
      "Other countries in group: Botswana, Central African Rep., Cuba, Gabon, Guatemala, Honduras, Hungary, Libya, Malawi, Mali, Mauritania, Mozambique, Namibia, Nicaragua, Oman, Paraguay, Rep. Congo, Romania, Serbia, Venezuela, Zimbabwe\n",
      "Other countries in group: Botswana, Central African Rep., Cuba, Gabon, Guatemala, Honduras, Hungary, Libya, Malawi, Mali, Mauritania, Mozambique, Namibia, Nicaragua, Oman, Paraguay, Rep. Congo, Romania, Serbia, Venezuela, Zimbabwe\n",
      "Other countries in group: Algeria, Australia, Azerbaijan, Bulgaria, Greece, Italy, Kazakhstan, Kyrgyzstan, Morocco, Portugal, South Africa, Spain, Syria, Tajikistan, Tunisia, Turkmenistan, Ukraine, Uzbekistan\n",
      "Other countries in group: Algeria, Australia, Azerbaijan, Bulgaria, Greece, Italy, Kazakhstan, Kyrgyzstan, Morocco, Portugal, South Africa, Spain, Syria, Tajikistan, Tunisia, Turkmenistan, Ukraine, Uzbekistan\n"
     ]
    }
   ],
   "source": [
    "summary_20 = print(summarize(g, ratio=0.005))"
   ]
  },
  {
   "cell_type": "code",
   "execution_count": 18,
   "metadata": {},
   "outputs": [
    {
     "name": "stdout",
     "output_type": "stream",
     "text": [
      "to define the impact of climate change, often building on the risk measures used in our case studies, and choosing the best possible measures based on broad country coverage and data availability.32 For example, for livability and workability, we use the measures of the share of population living in areas projected to experience a non-zero annual probability of lethal heat waves as well as the annual share of effective outdoor working hours affected by extreme heat and humidity in climate-exposed regions.\n",
      "annual supply of water (these three are measures of livability and workability, and are considered in our India case and Mediterranean cases), annual share of capital stock at risk of flood damage in climate-exposed regions (asset destruction and infrastructure services; similar measures of capital stock damage are used in our Florida and Inundation cases), share of time spent in drought over a decade (measure of food systems; we also consider the impact of drought in our Mediterranean case), share of land surface changing climate classification annually (measure of natural capital; this was used for our geospatial analysis to allow us to develop a global measure of natural capital risk).\n",
      "To assess the magnitude of direct physical climate risk in each case and for our geospatial analysis, we examine the severity of the hazard and its likelihood; the exposure of people, assets, or economic activity to the hazard; and the extent to which systems are vulnerable to the hazard, for example, how vulnerable buildings are to damage from different depths of flood.\n",
      "Other countries in group: Botswana, Central African Rep., Cuba, Gabon, Guatemala, Honduras, Hungary, Libya, Malawi, Mali, Mauritania, Mozambique, Namibia, Nicaragua, Oman, Paraguay, Rep. Congo, Romania, Serbia, Venezuela, Zimbabwe\n",
      "Other countries in group: Botswana, Central African Rep., Cuba, Gabon, Guatemala, Honduras, Hungary, Libya, Malawi, Mali, Mauritania, Mozambique, Namibia, Nicaragua, Oman, Paraguay, Rep. Congo, Romania, Serbia, Venezuela, Zimbabwe\n"
     ]
    }
   ],
   "source": [
    "summary_20 = print(summarize(g, ratio=0.001))"
   ]
  },
  {
   "cell_type": "code",
   "execution_count": null,
   "metadata": {},
   "outputs": [],
   "source": []
  }
 ],
 "metadata": {
  "kernelspec": {
   "display_name": "Python 3",
   "language": "python",
   "name": "python3"
  },
  "language_info": {
   "codemirror_mode": {
    "name": "ipython",
    "version": 3
   },
   "file_extension": ".py",
   "mimetype": "text/x-python",
   "name": "python",
   "nbconvert_exporter": "python",
   "pygments_lexer": "ipython3",
   "version": "3.6.8"
  }
 },
 "nbformat": 4,
 "nbformat_minor": 2
}
